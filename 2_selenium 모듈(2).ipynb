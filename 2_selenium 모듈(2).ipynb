{
 "cells": [
  {
   "cell_type": "markdown",
   "metadata": {},
   "source": [
    "### 다음 뉴스 댓글 개수 크롤링\n",
    "- https://news.v.daum.net/v/20200911181655276"
   ]
  },
  {
   "cell_type": "code",
   "execution_count": 1,
   "metadata": {},
   "outputs": [],
   "source": [
    "from selenium import webdriver\n",
    "from selenium.webdriver.common.keys import Keys\n",
    "from selenium.webdriver.support.ui import WebDriverWait\n",
    "from selenium.webdriver.support import expected_conditions as EC\n",
    "from selenium.webdriver.common.by import By\n",
    "\n",
    "from bs4 import BeautifulSoup\n",
    "import time"
   ]
  },
  {
   "cell_type": "code",
   "execution_count": 6,
   "metadata": {},
   "outputs": [
    {
     "name": "stdout",
     "output_type": "stream",
     "text": [
      "댓글 3 개\n"
     ]
    }
   ],
   "source": [
    "chrome_driver = 'C:/haekangBD/bigdata/ExtraClass/chromedriver.exe'\n",
    "driver = webdriver.Chrome(chrome_driver)\n",
    "\n",
    "url = 'https://news.v.daum.net/v/20200911181655276'\n",
    "driver.get(url)\n",
    "\n",
    "time.sleep(2)\n",
    "\n",
    "src = driver.page_source\n",
    "soup = BeautifulSoup(src)\n",
    "\n",
    "comment_count = soup.select_one('span.alex-count-area')\n",
    "# print(comment_count)\n",
    "print('댓글', comment_count.get_text(),'개')\n",
    "\n",
    "driver.close()"
   ]
  },
  {
   "cell_type": "markdown",
   "metadata": {},
   "source": [
    "### selenium을 활용하여 특정 element의 로딩 대기\n",
    "- WebdriverWait 객체를 이용하여 해당 element가 로딩 되는 것을 대기\n",
    "- 실제로 해당기능을 활용하여 거의 모든 사이트를 크롤링 가능\n",
    "- WebDriverWait(driver, 시간(초)).until(EC.presence_of_element_located((CSS선택자, 'CSS_RULE')))"
   ]
  },
  {
   "cell_type": "markdown",
   "metadata": {},
   "source": [
    "### 네이버 뉴스 댓글 개수 크롤링\n",
    "- https://news.naver.com/main/ranking/read.nhn?mid=etc&sid1=111&rankingType=popular_day&oid=469&aid=0000534674&date=20200911&type=1&rankingSeq=1&rankingSectionId=101"
   ]
  },
  {
   "cell_type": "code",
   "execution_count": 11,
   "metadata": {},
   "outputs": [
    {
     "name": "stdout",
     "output_type": "stream",
     "text": [
      "댓글 118 개\n"
     ]
    }
   ],
   "source": [
    "chrome_driver = 'C:/haekangBD/bigdata/ExtraClass/chromedriver.exe'\n",
    "driver = webdriver.Chrome(chrome_driver)\n",
    "\n",
    "url = 'https://news.naver.com/main/ranking/read.nhn?mid=etc&sid1=111&rankingType=popular_day&oid=469&aid=0000534674&date=20200911&type=1&rankingSeq=1&rankingSectionId=101'\n",
    "driver.get(url)\n",
    "\n",
    "myElem = WebDriverWait(driver, 10).until(EC.presence_of_element_located((By.CSS_SELECTOR, '.u_cbox_info_txt')))\n",
    "\n",
    "src = driver.page_source\n",
    "soup = BeautifulSoup(src)\n",
    "\n",
    "comment_count = soup.select_one('.u_cbox_info_txt')\n",
    "print('댓글', comment_count.get_text(), '개')\n"
   ]
  },
  {
   "cell_type": "markdown",
   "metadata": {},
   "source": [
    "### 아고다 리뷰 크롤링(스크롤을 하단으로 이동)\n",
    "- driver.execute_script('스크립트 명령어')"
   ]
  },
  {
   "cell_type": "code",
   "execution_count": 13,
   "metadata": {},
   "outputs": [
    {
     "name": "stdout",
     "output_type": "stream",
     "text": [
      "22219\n"
     ]
    }
   ],
   "source": [
    "chrome_driver = 'C:/haekangBD/bigdata/ExtraClass/chromedriver.exe'\n",
    "driver = webdriver.Chrome(chrome_driver)\n",
    "\n",
    "url = 'https://www.agoda.com/ko-kr/best-western-orlando-gateway-hotel/hotel/orlando-fl-us.html?finalPriceView=0&isShowMobileAppPrice=false&cid=-1&numberOfBedrooms=&familyMode=false&isAgMse=false&ccallout=false&defdate=false&adults=2&children=0&rooms=1&maxRooms=9&checkIn=2020-09-12&childAges=&defaultChildAge=8&travellerType=1&tspTypes=1,8&los=1&searchrequestid=59409130-6d4e-4070-95c0-5b81a18e6c19'\n",
    "driver.get(url)\n",
    "time.sleep(3)\n",
    "\n",
    "# 스크롤 높이 가져옵니다.\n",
    "last_height = driver.execute_script('return document.body.scrollHeight')\n",
    "print(last_height) # 11024 (픽셀 수)\n",
    "\n",
    "while True:\n",
    "    # 끝까지 스크롤을 내려줍니다.\n",
    "    driver.execute_script('window.scrollTo(0, document.body.scrollHeight)')\n",
    "    time.sleep(1)\n",
    "    # 스크롤 높이를 다시 가져옵니다.\n",
    "    new_height = driver.execute_script('return document.body.scrollHeight')\n",
    "    if new_height == last_height:\n",
    "        break;\n",
    "    last_height = new_height\n",
    "    \n",
    "\"\"\"\n",
    "    과제\n",
    "    화면에 보이는 평점과 리뷰를 모두 출력\n",
    "    \n",
    "    아이디 평점 리뷰\n",
    "    아이디 평점 리뷰\n",
    "    ...\n",
    "\n",
    "\"\"\"\n"
   ]
  },
  {
   "cell_type": "markdown",
   "metadata": {},
   "source": [
    "### 네이버 웹툰 리뷰 크롤링\n",
    "- https://comic.naver.com/comment/comment.nhn?titleId=641253&no=304"
   ]
  },
  {
   "cell_type": "code",
   "execution_count": 16,
   "metadata": {},
   "outputs": [
    {
     "name": "stdout",
     "output_type": "stream",
     "text": [
      "*** 베스트 댓글 ***\n",
      "--------------------------------------------------------------------------------\n",
      "김기명이 주인공이다.  . . .  . .\n",
      "--------------------------------------------------------------------------------\n",
      "그와중에 막짤 김기명 너클 거부ㅋㅋㅋ웅장이 가슴해진다..\n",
      "--------------------------------------------------------------------------------\n",
      "솔직히 외지주 제목이랑 주제가 요즘 만들어지는 이야기 주제랑 많이 떨어지고 산넘어 산이긴한데...그거랑 별계로 솔까 싸우는거랑 크루전쟁이 재밌긴함;;;\n",
      "--------------------------------------------------------------------------------\n",
      "아직까지 외모지상주의 제목에 안맞는다고 까는 사람들이 있냐? 외모 얘기 보고 싶으면 옆동네 여X강림이나 보러 가셈 외지주 느와르물 돼서 ㅈㄴ 재밌어졌으니까\n",
      "--------------------------------------------------------------------------------\n",
      "별명은 유치한 이유로 생긴다발음이 비슷하다는 이유글씨가 비슷하다는 이유내 별명은 권오줌이다\n",
      "--------------------------------------------------------------------------------\n",
      "설마 서성은도 빅딜소속이였는데 일해회한테 팔아먹으려다가김기명이 쫓아낸거 아님?\n",
      "--------------------------------------------------------------------------------\n",
      "저 흑곰아재 최대리네 크게 다치고 은퇴햇다는데 그게 이번일인가?\n",
      "--------------------------------------------------------------------------------\n",
      "나만 황제원 ㅈㄴ 꼴보기 싫냐\n",
      "--------------------------------------------------------------------------------\n",
      "너클 실제로 써보면 알겠지만굉장히 견고한 쇠재질에 약골들도 성인남자 두개골 깰만큼 셈그냥 주먹에 쇠빠따를 두르고 다니는거라 보면됨그런 너클을 양손에끼고 싸우는 성은과공격을 굳이 피하지않고 맞아주고 싸우면서맨주먹만으로 맞먹는 김기명여기서 둘의 수준차이는 확고하며김기명이 너클쓰면 진작에 4대크루 통일했다서성은은 너클없으면 저자리까지도 못갔음핫형석한테도 너클뺐기니 바로 앞에있던 람보르기니 문 뽑아서 연장질 하던데 맨손으로 일절 안싸우려는거 보니맨손으론 전투력 ㅆ후달리는거 확정인듯\n",
      "--------------------------------------------------------------------------------\n",
      "진짜 옛날엔 외모지상주의를 제대로 비판하는 만화였는데 지금은 느와르물이긴 하다.. 근데 웹툰은 재밌으려고 보지 제목이랑 관련없늠거 찾아서 비판하려고 보나?\n",
      "--------------------------------------------------------------------------------\n",
      "왜 번.너.클은 너클 안씀 ? 로고도 너클이던게;(\n",
      "--------------------------------------------------------------------------------\n",
      "다구빨은 그냥 서성은 싸움 스타일이지 맨손이 딸려서가 아님. 물론 이번 김기명vs서성은 맞치기는 직접적인 연출이 나와서 김기명>서성은 어느정도 수긍이 가는데 너클없으면 아무것도 아닌것마냥 허졉인거랑은 얘기가 다름. 너클 실제로 처맞아 보든말든 그건 어디까지나 현실 얘기고 외지주 세계관은 엘리베이터 문짝에 주먹자국 낼정도의 공격을 관자놀이에 맞아도 두발 멀쩡히 서있는데다 종건vs무의식형석 보면 주변 지형지물이 촬영소품마냥 벽이고뭐고 다 박살나고 보온통 부수는것도 장난인데 현실이론 대입하는것만큼 멍청한 논리는 없음. 외지주정도면 장풍 축지법만 없지 거의 무협판타지 수준. 애초에 이미 종건 독백으로도 나왔듯이 서성은이 헤드가 될수없던 이유가 너클때문은 아니라고 못박은게 작중오피셜임. 서성은을 너클빨로 우기는 논리대로면 준구도 연장없으면 박지호컷\n",
      "--------------------------------------------------------------------------------\n",
      "외모지상주의 처음스토리 그대로가서 형석이가 살빼고잘생겨져서 학폭에서 벗어났다 이런스토리로 갔으면 보지도 않았을놈들이 제목이랑 내용이랑 다르다고 꿍시렁 대는거 왤캐 꼴보기싫냐\n",
      "--------------------------------------------------------------------------------\n",
      "세번째 베댓과거 회상중에 김기명이 서성은한테 돌아와 성은이라 했는데 뭘 김기명이 쫓아냄\n",
      "--------------------------------------------------------------------------------\n",
      "그 와중에 막씬 하마 한번 찍은애 계속 붙잡고 패고있네\n"
     ]
    }
   ],
   "source": [
    "chrome_driver = 'C:/haekangBD/bigdata/ExtraClass/chromedriver.exe'\n",
    "driver = webdriver.Chrome(chrome_driver)\n",
    "\n",
    "url = 'https://comic.naver.com/comment/comment.nhn?titleId=641253&no=304'\n",
    "driver.get(url)\n",
    "\n",
    "src = driver.page_source\n",
    "soup = BeautifulSoup(src)\n",
    "\n",
    "comment_area = soup.findAll('span',{'class':'u_cbox_contents'})\n",
    "\n",
    "print('*** 베스트 댓글 ***')\n",
    "for i in range(len(comment_area)):\n",
    "    comment = comment_area[i].text.strip()\n",
    "    print('-'*80)\n",
    "    print(comment)\n",
    "\n",
    "time.sleep(3)\n",
    "driver.find_element_by_xpath('/html/body/div/div/div[4]/div[1]/div/ul/li[2]/a/span[2]').click()\n",
    "\n",
    "\"\"\"\n",
    "    과제\n",
    "    1. 일반 댓글 리뷰 출력\n",
    "    2. 페이징을 클릭해서 리뷰 출력\n",
    "\"\"\"\n"
   ]
  },
  {
   "cell_type": "code",
   "execution_count": null,
   "metadata": {},
   "outputs": [],
   "source": []
  }
 ],
 "metadata": {
  "kernelspec": {
   "display_name": "Python 3",
   "language": "python",
   "name": "python3"
  },
  "language_info": {
   "codemirror_mode": {
    "name": "ipython",
    "version": 3
   },
   "file_extension": ".py",
   "mimetype": "text/x-python",
   "name": "python",
   "nbconvert_exporter": "python",
   "pygments_lexer": "ipython3",
   "version": "3.8.5"
  }
 },
 "nbformat": 4,
 "nbformat_minor": 4
}
